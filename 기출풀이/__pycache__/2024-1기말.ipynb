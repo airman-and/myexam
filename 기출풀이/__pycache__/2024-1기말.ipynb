{
 "cells": [
  {
   "cell_type": "code",
   "execution_count": 4,
   "id": "fcf70dbb",
   "metadata": {},
   "outputs": [
    {
     "name": "stdout",
     "output_type": "stream",
     "text": [
      "1.00e1\n"
     ]
    }
   ],
   "source": [
    "def exp(s):\n",
    "    if '.' not in s:\n",
    "        return 'x'\n",
    "\n",
    "\n",
    "    \n",
    "    # 소수점 기준으로 나누기\n",
    "   \n",
    "    point_index = s.index('.')\n",
    "    new_s = s.replace('.', '')  # 소수점 제거한 숫자 문자열\n",
    "\n",
    "    # 지수 계산\n",
    "    exp_val = point_index - 1\n",
    "\n",
    "    # 결과 만들기 (소수점 한 칸 뒤에 넣기)\n",
    "    result = new_s[0] + '.' + new_s[1:] + f'e{exp_val}'\n",
    "    return result\n",
    "print(exp('10.0'))"
   ]
  },
  {
   "cell_type": "code",
   "execution_count": null,
   "id": "d8db2721",
   "metadata": {},
   "outputs": [
    {
     "data": {
      "text/plain": [
       "5"
      ]
     },
     "execution_count": 3,
     "metadata": {},
     "output_type": "execute_result"
    }
   ],
   "source": [
    "def lt(seq):\n",
    "    count = 0\n",
    "    for i in range(len(seq)):\n",
    "        try:\n",
    "            if seq[i] < seq[i+1]:\n",
    "                count += 1\n",
    "        except:\n",
    "            return count\n",
    "        \n",
    "lt([4, 5, 6,7,8,10,6])"
   ]
  },
  {
   "cell_type": "code",
   "execution_count": 2,
   "id": "1bba45f0",
   "metadata": {},
   "outputs": [
    {
     "data": {
      "text/plain": [
       "-6"
      ]
     },
     "execution_count": 2,
     "metadata": {},
     "output_type": "execute_result"
    }
   ],
   "source": [
    "def Sume(n):\n",
    "    # 정수의 각 자리수의 합을 반환한다. 반복문 금지? 아오,\n",
    "    # 1. 문자열 바꿈 2. 문자열 split 3. map으로 int로, 4. sum으로 합하고 반환 * 앞에 -가 있는 지 꼭 확인해야함\n",
    "    nlist = list(str(n))\n",
    "    if nlist[0] == '-':\n",
    "        del  nlist[0]\n",
    "        N = map(int, nlist)\n",
    "        Sum = sum(N)\n",
    "        return -Sum\n",
    "\n",
    "    else:\n",
    "        N = map(int, nlist)\n",
    "        Sum = sum(N)\n",
    "        return Sum\n",
    "\n",
    "Sume(123)\n",
    "Sume(-123)"
   ]
  },
  {
   "cell_type": "code",
   "execution_count": null,
   "id": "4ea1b59b",
   "metadata": {},
   "outputs": [],
   "source": []
  }
 ],
 "metadata": {
  "kernelspec": {
   "display_name": "base",
   "language": "python",
   "name": "python3"
  },
  "language_info": {
   "codemirror_mode": {
    "name": "ipython",
    "version": 3
   },
   "file_extension": ".py",
   "mimetype": "text/x-python",
   "name": "python",
   "nbconvert_exporter": "python",
   "pygments_lexer": "ipython3",
   "version": "3.12.3"
  }
 },
 "nbformat": 4,
 "nbformat_minor": 5
}
