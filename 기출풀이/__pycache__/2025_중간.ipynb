{
 "cells": [
  {
   "cell_type": "code",
   "execution_count": null,
   "id": "b53e38fa",
   "metadata": {},
   "outputs": [],
   "source": [
    "import matplotlib.pyplot as plt\n",
    "import numpy as np\n",
    "\n",
    "x = np.linspace(0, 40, 500)\n",
    "y1 = x\n",
    "y2 = (x**2) / 40\n",
    "y3 = (x**3) / 900\n",
    "\n",
    "plt.plot(x, y1, label='x')\n",
    "plt.plot(x, y2, label='x^2/40')\n",
    "plt.plot(x, y3, label='x^3/900')\n",
    "\n",
    "plt.title('Functions')\n",
    "plt.xlabel('x axis')\n",
    "plt.ylim(0, 70)\n",
    "plt.legend(loc='lower right')\n",
    "plt.show()"
   ]
  },
  {
   "cell_type": "code",
   "execution_count": null,
   "id": "f652ec41",
   "metadata": {},
   "outputs": [
    {
     "name": "stdout",
     "output_type": "stream",
     "text": [
      "1: 1111\n",
      "2: second\n",
      "3: 세번째 줄\n",
      "4: alsdkfj;l\n",
      "5: qwoirgqoijaf\n",
      "6: awiefadad\n",
      "7: sfasdfasduijf\n",
      "8: \n",
      "9: uiwefhwef\n"
     ]
    }
   ],
   "source": [
    "try:\n",
    "    with open('short.txt', 'r', encoding='utf-8') as f:\n",
    "        for i, line in enumerate(f, 1):\n",
    "            print(f\"{i}: {line.strip()}\")\n",
    "except FileNotFoundError:\n",
    "    print(\"오류: 파일을 찾을 수 없습니다.\")"
   ]
  },
  {
   "cell_type": "code",
   "execution_count": null,
   "id": "5d5fcf44",
   "metadata": {},
   "outputs": [],
   "source": [
    "class R:\n",
    "    def __init__(self, width, height):\n",
    "        self.width = width\n",
    "        self.height = height\n",
    "\n",
    "    def area(self):\n",
    "        return self.width * self.height\n",
    "\n",
    "    def __str__(self):\n",
    "        return f\"({self.width}, {self.height})\"\n",
    "\n",
    "    def __eq__(self, other):\n",
    "        return self.area() == other.area()\n",
    "    \n",
    "class S(R):\n",
    "    def __init__(self, side):\n",
    "        super().__init__(side, side)\n",
    "\n",
    "a = R(2, 8)   # 가로 2, 세로 8인 직사각형\n",
    "b = R(8, 2)   # 가로 8, 세로 2인 직사각형\n",
    "c = R(3, 4)   # 가로 3, 세로 4인 직사각형\n",
    "d = S(4)      # 한 변의 길이가 4인 정사각형\n",
    "\n",
    "print(a.area(), d.area())\n",
    "print(a, b, c, d)\n",
    "print(a == b, b == c, c == d, d == a)"
   ]
  },
  {
   "cell_type": "code",
   "execution_count": null,
   "id": "7a21ef85",
   "metadata": {},
   "outputs": [],
   "source": [
    "import pandas as pd\n",
    "\n",
    "data_left = {\n",
    "    '동물': ['사자', '사자', '코끼리', '얼룩말'],\n",
    "    'ID': [1001, 1002, 1003, 1004],\n",
    "    '사육비': [800, 700, 1000, 500]\n",
    "}\n",
    "df_left = pd.DataFrame(data_left)\n",
    "\n",
    "data_right = {\n",
    "    '동물': ['사자', '코끼리', '얼룩말'],\n",
    "    '사료': ['고기', '야채', '야채']\n",
    "}\n",
    "df_right = pd.DataFrame(data_right)\n",
    "\n",
    "print(df_right)\n",
    "\n",
    "total_rearing_cost = df_left['사육비'].sum()\n",
    "print(f\"사육비 합: {total_rearing_cost}\")\n",
    "\n",
    "merged_df = pd.merge(df_left, df_right, on='동물')\n",
    "print(merged_df)\n",
    "\n",
    "df_left_without_id = df_left.drop(columns=['ID'])\n",
    "print(df_left_without_id)\n"
   ]
  },
  {
   "cell_type": "code",
   "execution_count": null,
   "id": "c1ec2d00",
   "metadata": {},
   "outputs": [],
   "source": [
    "class R:\n",
    "    def __init__(self,width,height):\n",
    "        self.width = width\n",
    "        self.height = height\n",
    "\n",
    "    def area(self):\n",
    "        return self.width*self.height\n",
    "    \n",
    "    def __str__(self):\n",
    "        return f'({self.width}, {self.height})'\n",
    "    \n",
    "    def __eq__(self, other):\n",
    "        return self.area() == other.area()\n",
    "    \n",
    "class S(R):\n",
    "    def __init__(self, side):\n",
    "        super().__init__(side, side)\n",
    "\n",
    "a = R(2, 8)   # 가로 2, 세로 8인 직사각형\n",
    "b = R(8, 2)   # 가로 8, 세로 2인 직사각형\n",
    "c = R(3, 4)   # 가로 3, 세로 4인 직사각형\n",
    "d = S(4)      # 한 변의 길이가 4인 정사각형\n",
    "\n",
    "print(a.area(), d.area())\n",
    "print(a, b, c, d)\n",
    "print(a == b, b == c, c == d, d == a)\n",
    "        "
   ]
  },
  {
   "cell_type": "code",
   "execution_count": null,
   "id": "1becb25c",
   "metadata": {},
   "outputs": [],
   "source": [
    "import matplotlib.pyplot as plt\n",
    "import numpy as np\n",
    "\n",
    "x = np.linspace(0,40,500)\n",
    "y1 = x\n",
    "y2 = x**2/40\n",
    "y3 = x**3/900\n",
    "\n",
    "plt.plot(x,y1, label = 'x')\n",
    "plt.plot(x, y2, label= 'x^2/40')\n",
    "plt.plot(x, y3, label = 'x^3/900')\n",
    "\n",
    "plt.title('Functions')\n",
    "plt.xlabel('x axis')\n",
    "plt.legend(loc='lower right')\n",
    "plt.show()\n"
   ]
  },
  {
   "cell_type": "code",
   "execution_count": null,
   "id": "6148b6fa",
   "metadata": {},
   "outputs": [],
   "source": [
    "def exp(s):\n",
    "    slist = list(s)\n",
    "    if float(s) < 10:\n",
    "        return 'x'\n",
    "    if '.' in slist:\n",
    "        i = slist.index('.')\n",
    "        slist.remove('.')\n",
    "        slist.insert(1,'.')\n",
    "        new = ''.join(slist) + f'e{i-1}'\n",
    "        return new\n",
    "    else:\n",
    "        return 'x'\n",
    "    \n",
    "exp('12.3000')\n",
    "    "
   ]
  },
  {
   "cell_type": "code",
   "execution_count": null,
   "id": "933a5036",
   "metadata": {},
   "outputs": [],
   "source": [
    "def lt(seq):\n",
    "    # 리스트가 비어있거나 요소가 하나뿐이면 비교가 불가능하므로 0을 반환합니다.\n",
    "    if len(seq) < 2:\n",
    "        return 0\n",
    "\n",
    "    count = 0\n",
    "    iterator = iter(seq)\n",
    "\n",
    "    # 이터레이터에서 첫 번째 값을 미리 꺼내 left_val에 할당합니다.\n",
    "    left_val = next(iterator)\n",
    "\n",
    "    # 나머지 요소들을 순회합니다.\n",
    "    for right_val in iterator:\n",
    "        if left_val < right_val:\n",
    "            count += 1\n",
    "        # 현재의 오른쪽 값을 다음 비교를 위해 왼쪽 값으로 설정합니다.\n",
    "        left_val = right_val\n",
    "\n",
    "    return count\n"
   ]
  },
  {
   "cell_type": "code",
   "execution_count": 4,
   "id": "c4806994",
   "metadata": {},
   "outputs": [
    {
     "data": {
      "text/plain": [
       "'-6'"
      ]
     },
     "execution_count": 4,
     "metadata": {},
     "output_type": "execute_result"
    }
   ],
   "source": [
    "def sume(n):\n",
    "    Nlist = list(str(n))\n",
    "    if Nlist[0] == '-':\n",
    "        Nlist.remove('-')\n",
    "        Nlist = list(map(int, Nlist))\n",
    "        N = sum(Nlist)\n",
    "        return f'-{N}'\n",
    "    else:\n",
    "        Nlist = list(map(int, Nlist))\n",
    "        N = sum(Nlist)\n",
    "        return f'{N}'\n",
    "sume(-123)"
   ]
  },
  {
   "cell_type": "code",
   "execution_count": 5,
   "id": "37a72320",
   "metadata": {},
   "outputs": [
    {
     "name": "stdout",
     "output_type": "stream",
     "text": [
      "1: 1111\n",
      "2: second\n",
      "3: 세번째 줄\n",
      "4: alsdkfj;l\n",
      "5: qwoirgqoijaf\n",
      "6: awiefadad\n",
      "7: sfasdfasduijf\n",
      "8: \n",
      "9: uiwefhwef\n"
     ]
    }
   ],
   "source": [
    "with open('short.txt', 'r', encoding = 'utf-8') as file:\n",
    "    line_number = 1\n",
    "    for line in file:\n",
    "        print(f'{line_number}: {line.strip()}')\n",
    "        line_number +=1\n"
   ]
  },
  {
   "cell_type": "code",
   "execution_count": 9,
   "id": "2b1356b3",
   "metadata": {},
   "outputs": [
    {
     "data": {
      "text/plain": [
       "'1+2+...+100=5050'"
      ]
     },
     "execution_count": 9,
     "metadata": {},
     "output_type": "execute_result"
    }
   ],
   "source": [
    "def add(n):\n",
    "    List = list(range(1,n+1))\n",
    "    Sum = '+'.join(list(map(str,List)))\n",
    "    Kum = sum(List)\n",
    "    if len(List) < 10:\n",
    "        return Sum+f'={Kum}'\n",
    "    else:\n",
    "        return f'{List[0]}+{List[1]}+...+{List[-1]}={Kum}'\n",
    "    \n",
    "add(100)\n"
   ]
  },
  {
   "cell_type": "code",
   "execution_count": 10,
   "id": "b2ca2d96",
   "metadata": {},
   "outputs": [
    {
     "data": {
      "text/plain": [
       "1234"
      ]
     },
     "execution_count": 10,
     "metadata": {},
     "output_type": "execute_result"
    }
   ],
   "source": [
    "def f(li):\n",
    "    li.reverse()\n",
    "    ku = list(map(str, li))\n",
    "    ku = ''.join(ku)\n",
    "    return int(ku)\n",
    "f([4, 3, 2, 1])"
   ]
  },
  {
   "cell_type": "code",
   "execution_count": 12,
   "id": "e7cda6d7",
   "metadata": {},
   "outputs": [
    {
     "name": "stdout",
     "output_type": "stream",
     "text": [
      "  1\n",
      " 123\n",
      "12345\n"
     ]
    }
   ],
   "source": [
    "def fun(n):\n",
    "\n",
    "    lines = []\n",
    "    for i in range(1, n + 1, 2):\n",
    "        num_spaces = (n - i) // 2\n",
    "        leading_spaces = \" \" * num_spaces\n",
    "        number_string = \"\"\n",
    "        for j in range(1, i + 1):\n",
    "            number_string += str(j)\n",
    "        current_line = leading_spaces + number_string\n",
    "        lines.append(current_line)\n",
    "\n",
    "    return \"\\n\".join(lines)\n",
    "fun(5)\n",
    "print(fun(5))\n"
   ]
  }
 ],
 "metadata": {
  "kernelspec": {
   "display_name": "base",
   "language": "python",
   "name": "python3"
  },
  "language_info": {
   "codemirror_mode": {
    "name": "ipython",
    "version": 3
   },
   "file_extension": ".py",
   "mimetype": "text/x-python",
   "name": "python",
   "nbconvert_exporter": "python",
   "pygments_lexer": "ipython3",
   "version": "3.12.3"
  }
 },
 "nbformat": 4,
 "nbformat_minor": 5
}
