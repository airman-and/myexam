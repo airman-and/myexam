{
 "cells": [
  {
   "cell_type": "code",
   "execution_count": 1,
   "metadata": {},
   "outputs": [
    {
     "name": "stdout",
     "output_type": "stream",
     "text": [
      "A: [1, 2, 3, 4, 5, 6, 7, 8, 9, 10]\n",
      "B: [1, 2, -3, -4, -5, -6, -7, -8, 9, 10]\n"
     ]
    }
   ],
   "source": [
    "A=[x for x in range(1,11)]\n",
    "B=[-x if 3 <= x <= 8 else x for x in A]\n",
    "print(\"A:\",A)\n",
    "print(\"B:\",B)\n"
   ]
  },
  {
   "cell_type": "code",
   "execution_count": 2,
   "metadata": {},
   "outputs": [
    {
     "name": "stdout",
     "output_type": "stream",
     "text": [
      "문자열의 개수는 5\n"
     ]
    }
   ],
   "source": [
    "list = ['aba', 'xyz', 'aa', 'x','ㅛㅛ', 'bbb']\n",
    "\n",
    "count=0\n",
    "for i in list:\n",
    "    if i[0] == i[-1]:\n",
    "        count+=1\n",
    "print('문자열의 개수는',count)\n",
    "        "
   ]
  },
  {
   "cell_type": "code",
   "execution_count": 3,
   "metadata": {},
   "outputs": [
    {
     "name": "stdout",
     "output_type": "stream",
     "text": [
      "True\n"
     ]
    }
   ],
   "source": [
    "list1=[1, 2, 3, 4, 5, 6]\n",
    "List2=[6, 7, 8, 9, 10]\n",
    "def check(list1, List2):\n",
    "    for i in list1:\n",
    "        for j in List2:\n",
    "            if i==j:\n",
    "                return True\n",
    "                \n",
    "            else:\n",
    "                continue\n",
    "print(check(list1, List2))\n",
    "        "
   ]
  },
  {
   "cell_type": "code",
   "execution_count": 4,
   "metadata": {},
   "outputs": [
    {
     "name": "stdout",
     "output_type": "stream",
     "text": [
      "[1, 2, 3, 4, 5]\n"
     ]
    }
   ],
   "source": [
    "a = [1, 2, 3, 4, 5]\n",
    "b = [1, 2, 3, 4, 5, 6, 7]\n",
    "\n",
    "\n",
    "def k(c):\n",
    "    c = [x for x in b if x in a]\n",
    "    print(c)\n",
    "\n",
    "\n",
    "k([])\n",
    "    "
   ]
  },
  {
   "cell_type": "code",
   "execution_count": 5,
   "metadata": {},
   "outputs": [
    {
     "name": "stdout",
     "output_type": "stream",
     "text": [
      "랜덤 리스트: [0, 0, 1, 0, 1, 0, 1, 1, 0, 0]\n",
      "0에서 시작하여, 0가 2번 연속됩니다.\n"
     ]
    }
   ],
   "source": [
    "import random\n",
    "\n",
    "# 0과 1로 이루어진 리스트 생성\n",
    "random_list = [random.randint(0, 1) for _ in range(10)]\n",
    "print(\"랜덤 리스트:\", random_list)\n",
    "\n",
    "# 연속된 숫자를 찾는 함수\n",
    "def find_longest_sequence(lst):\n",
    "    longest_num = None\n",
    "    longest_length = 0\n",
    "    current_num = lst[0]\n",
    "    current_start = 0\n",
    "    current_length = 1\n",
    "\n",
    "    for i in range(1, len(lst)):\n",
    "        if lst[i] == current_num:  # 숫자가 연속됨\n",
    "            current_length += 1\n",
    "        else:  # 숫자가 바뀜\n",
    "            if current_length > longest_length:\n",
    "                longest_num = current_num\n",
    "                longest_length = current_length\n",
    "                longest_start = current_start\n",
    "            current_num = lst[i]\n",
    "            current_start = i\n",
    "            current_length = 1\n",
    "\n",
    "    # 마지막 연속 숫자 확인\n",
    "    if current_length > longest_length:\n",
    "        longest_num = current_num\n",
    "        longest_length = current_length\n",
    "        longest_start = current_start\n",
    "\n",
    "    return longest_num, longest_start, longest_length\n",
    "\n",
    "# 결과 확인\n",
    "number, start_index, length = find_longest_sequence(random_list)\n",
    "print(f\"{start_index}에서 시작하여, {number}가 {length}번 연속됩니다.\")\n"
   ]
  },
  {
   "cell_type": "code",
   "execution_count": 6,
   "metadata": {},
   "outputs": [
    {
     "name": "stdout",
     "output_type": "stream",
     "text": [
      "2부터 234까지의 소수는\n",
      "[2, 3, 5, 7, 11, 13, 17, 19, 23, 29, 31, 37, 41, 43, 47, 53, 59, 61, 67, 71, 73, 79, 83, 89, 97, 101, 103, 107, 109, 113, 127, 131, 137, 139, 149, 151, 157, 163, 167, 173, 179, 181, 191, 193, 197, 199, 211, 223, 227, 229, 233]\n"
     ]
    }
   ],
   "source": [
    "def find_primes_described_method(n):\n",
    "    if n < 2:\n",
    "        return []\n",
    "    numbers_set = set(range(2, n + 1))\n",
    "    # i가 n의 제곱근 이하일 때만 검사하면 충분함\n",
    "    for i in range(2, int(n ** 0.5) + 1):\n",
    "        if i in numbers_set:  # i가 이미 소수로 남아 있을 때만 진행\n",
    "            # i의 제곱부터 시작하면 이전의 배수는 이미 제거됨\n",
    "            for multiple in range(i * i, n + 1, i):\n",
    "                numbers_set.discard(multiple)\n",
    "    return sorted(numbers_set)\n",
    "\n",
    "# 올바른 입력을 받을 때까지 반복하는 입력 처리 부분\n",
    "while True:\n",
    "    try:\n",
    "        n_input = input(\"n을 입력 (2 이상의 정수): \")\n",
    "        n = int(n_input)\n",
    "        if n < 2:\n",
    "            print(\"2 이상의 정수를 입력해주세요.\")\n",
    "            continue\n",
    "        break\n",
    "    except ValueError:\n",
    "        print(\"잘못된 입력입니다. 정수만 입력해주세요.\")\n",
    "\n",
    "# 함수 호출 및 결과 출력\n",
    "k = find_primes_described_method(n)\n",
    "print(f\"2부터 {n}까지의 소수는\\n{k}\")\n",
    "\n"
   ]
  },
  {
   "cell_type": "code",
   "execution_count": 8,
   "metadata": {},
   "outputs": [
    {
     "name": "stdout",
     "output_type": "stream",
     "text": [
      "성적 평균= 48.0\n",
      "성적의 최대값= 80\n",
      "성적의 최소값= 10\n",
      "80점 이상= 1\n"
     ]
    }
   ],
   "source": [
    "students = 5\n",
    "lst = []\n",
    "count = 0\n",
    "for i in range(students):\n",
    "    value = int(input(\"성적을 입력하시오: \"))\n",
    "    lst.append(value)\n",
    "    if value >= 80:\n",
    "        count += 1\n",
    "print('성적 평균=', sum(lst) / len(lst))\n",
    "print('성적의 최대값=', max(lst))\n",
    "print('성적의 최소값=', min(lst))\n",
    "print('80점 이상=', count)"
   ]
  },
  {
   "cell_type": "code",
   "execution_count": 9,
   "metadata": {},
   "outputs": [
    {
     "name": "stdout",
     "output_type": "stream",
     "text": [
      "두 번째로 큰 수 15\n"
     ]
    }
   ],
   "source": [
    "list1 = [1, 2, 3, 4, 15, 99]\n",
    "\n",
    "list1.sort()\n",
    "print('두 번째로 큰 수', list1[-2])   "
   ]
  },
  {
   "cell_type": "code",
   "execution_count": 10,
   "metadata": {},
   "outputs": [
    {
     "name": "stdout",
     "output_type": "stream",
     "text": [
      "제거 전 [10.0, 9.0, 8.3, 7.1, 3.0, 9.0]\n",
      "제거 후 [9.0, 8.3, 7.1, 9.0]\n"
     ]
    }
   ],
   "source": [
    "scores = [10.0, 9.0, 8.3, 7.1, 3.0, 9.0]\n",
    "print('제거 전', scores)\n",
    "scores.remove(max(scores))\n",
    "scores.remove(min(scores))\n",
    "print('제거 후', scores)"
   ]
  },
  {
   "cell_type": "code",
   "execution_count": 11,
   "metadata": {},
   "outputs": [
    {
     "name": "stdout",
     "output_type": "stream",
     "text": [
      "포도\n",
      "오렌지\n",
      "사과\n"
     ]
    }
   ],
   "source": [
    "stack = []\n",
    "for i in range(3):\n",
    "    stack.append(input('과일을 입력하시오'))\n",
    "for i in range(3):\n",
    "    print(stack.pop())"
   ]
  },
  {
   "cell_type": "code",
   "execution_count": 13,
   "metadata": {},
   "outputs": [
    {
     "name": "stdout",
     "output_type": "stream",
     "text": [
      "--------------------\n",
      "1. 친구리스트출력\n",
      "2. 친구추가\n",
      "3. 친구삭제\n",
      "4. 이름변경\n",
      "9. 종료\n",
      "--------------------\n",
      "1. 친구리스트출력\n",
      "2. 친구추가\n",
      "3. 친구삭제\n",
      "4. 이름변경\n",
      "9. 종료\n",
      "--------------------\n",
      "1. 친구리스트출력\n",
      "2. 친구추가\n",
      "3. 친구삭제\n",
      "4. 이름변경\n",
      "9. 종료\n",
      "['조현영', '김조안']\n",
      "--------------------\n",
      "1. 친구리스트출력\n",
      "2. 친구추가\n",
      "3. 친구삭제\n",
      "4. 이름변경\n",
      "9. 종료\n"
     ]
    }
   ],
   "source": [
    "menu = 0\n",
    "friends = []\n",
    "while menu != 9:\n",
    "    print(\"--------------------\")\n",
    "    print(\"1. 친구리스트출력\")\n",
    "    print(\"2. 친구추가\")\n",
    "    print(\"3. 친구삭제\")\n",
    "    print(\"4. 이름변경\")\n",
    "    print(\"9. 종료\")\n",
    "    menu = int(input(\"메뉴를선택하시오: \"))\n",
    "    if menu == 1:\n",
    "        print(friends)\n",
    "    elif menu == 2:\n",
    "        name = input(\"이름을입력하시오: \")\n",
    "        friends.append(name)\n",
    "    elif menu == 3:\n",
    "        del_name = input(\"삭제하고싶은이름을입력하시오: \")\n",
    "        if del_name in friends:\n",
    "            friends.remove(del_name)\n",
    "        else:\n",
    "            print(\"이름이발견되지않았음\")\n",
    "    elif menu == 4:\n",
    "        old_name = input(\"변경하고싶은이름을입력하시오: \")\n",
    "        if old_name in friends:\n",
    "            index = friends.index(old_name)\n",
    "            new_name = input(\"새로운이름을입력하시오: \")\n",
    "            friends[index] = new_name\n",
    "        else:\n",
    "            print(\"이름이발견되지않았음\")\n"
   ]
  },
  {
   "cell_type": "code",
   "execution_count": 1,
   "metadata": {},
   "outputs": [
    {
     "name": "stdout",
     "output_type": "stream",
     "text": [
      "[1, 3, 4, 3, 2]\n"
     ]
    }
   ],
   "source": [
    "temp = (1, 3, 4, 3, 2)\n",
    "value = 0\n",
    "\n",
    "value = list(temp)\n",
    "\n",
    "print(value)"
   ]
  },
  {
   "cell_type": "code",
   "execution_count": 2,
   "metadata": {},
   "outputs": [
    {
     "name": "stdout",
     "output_type": "stream",
     "text": [
      "[10, 8, 6, 4, 2]\n",
      "[1]\n"
     ]
    }
   ],
   "source": [
    "numbers = [ 1, 2, 3, 4, 5, 6, 7, 8, 9, 10 ]\n",
    "numbers = [ 1, 2, 3, 4, 5, 6, 7, 8, 9, 10 ]\n",
    "reversed = numbers[::-2]\n",
    "print(reversed)\n",
    "numbers = [ 1, 2, 3, 4, 5, 6, 7, 8, 9, 10 ]\n",
    "numbers[1:] = [ ]\n",
    "print(numbers)\n"
   ]
  },
  {
   "cell_type": "code",
   "execution_count": 3,
   "metadata": {},
   "outputs": [
    {
     "name": "stdout",
     "output_type": "stream",
     "text": [
      "인상전 [200, 250, 300, 280, 500]\n",
      "인상후 [260.0, 325.0, 390.0, 364.0, 650.0]\n"
     ]
    }
   ],
   "source": [
    "salaries = [200, 250, 300, 280, 500]\n",
    "def modify(values, factor) :\n",
    "    for i in range(len(values)) :\n",
    "        values[i] = values[i] * factor\n",
    "print(\"인상전\", salaries)\n",
    "modify(salaries, 1.3)\n",
    "print(\"인상후\", salaries)"
   ]
  },
  {
   "cell_type": "code",
   "execution_count": 4,
   "metadata": {},
   "outputs": [
    {
     "name": "stdout",
     "output_type": "stream",
     "text": [
      "[0, 6, 12, 18, 24, 30, 36, 42, 48, 54, 60, 66, 72, 78, 84, 90, 96]\n"
     ]
    }
   ],
   "source": [
    "numbers = [x for x in range(100) if x % 2 == 0 and x % 3 == 0]\n",
    "print(numbers)\n"
   ]
  },
  {
   "cell_type": "code",
   "execution_count": 5,
   "metadata": {},
   "outputs": [
    {
     "name": "stdout",
     "output_type": "stream",
     "text": [
      "원래리스트:  [10, 20, 30, 40, 50]\n",
      "새로운리스트:  [10, 30, 60, 100, 150]\n"
     ]
    }
   ],
   "source": [
    "list1=[10, 20, 30, 40, 50]\n",
    "list2=[sum(list1[0:x+1]) for x in range(0, len(list1))]\n",
    "print(\"원래리스트: \",list1)\n",
    "print(\"새로운리스트: \",list2)\n"
   ]
  },
  {
   "cell_type": "code",
   "execution_count": 6,
   "metadata": {},
   "outputs": [
    {
     "name": "stdout",
     "output_type": "stream",
     "text": [
      "[(3, 4, 5), (5, 12, 13), (6, 8, 10), (7, 24, 25), (8, 15, 17), (9, 12, 15), (10, 24, 26), (12, 16, 20), (15, 20, 25), (20, 21, 29)]\n"
     ]
    }
   ],
   "source": [
    "a = [(x,y,z) for x in range(1,30) for y in range(x,30) for z in range(y,30) if x**2 + y**2 == z**2]\n",
    "print(a)"
   ]
  },
  {
   "cell_type": "code",
   "execution_count": 7,
   "metadata": {},
   "outputs": [
    {
     "name": "stdout",
     "output_type": "stream",
     "text": [
      "원래행렬= [[1, 2, 3], [4, 5, 6], [7, 8, 9]]\n",
      "전치행렬= [[1, 4, 7], [2, 5, 8], [3, 6, 9]]\n"
     ]
    }
   ],
   "source": [
    "transposed = []\n",
    "matrix = [[1, 2, 3], [4, 5, 6], [7, 8, 9]]\n",
    "print(\"원래행렬=\", matrix)\n",
    "# 열의개수만큼반복한다. \n",
    "for i in range(len(matrix[0])):\n",
    "    transposed_row = []\n",
    "    for row in matrix: # 행렬의각행에대하여반복\n",
    "        transposed_row.append(row[i])# i번째요소를row에추가한다. \n",
    "    transposed.append(transposed_row)\n",
    "print(\"전치행렬=\", transposed)\n"
   ]
  },
  {
   "cell_type": "code",
   "execution_count": 10,
   "metadata": {},
   "outputs": [
    {
     "name": "stdout",
     "output_type": "stream",
     "text": [
      "틱택토 게임을 시작합니다!\n",
      "\n",
      "   0   1   2\n",
      "0    |   |  \n",
      "  ---|---|---\n",
      "1    |   |  \n",
      "  ---|---|---\n",
      "2    |   |  \n",
      "\n",
      "\n",
      "   0   1   2\n",
      "0    |   |  \n",
      "  ---|---|---\n",
      "1    | X |  \n",
      "  ---|---|---\n",
      "2    |   |  \n",
      "\n",
      "컴퓨터 'O'가 (0, 0)에 수를 놓습니다.\n",
      "\n",
      "   0   1   2\n",
      "0  O |   |  \n",
      "  ---|---|---\n",
      "1    | X |  \n",
      "  ---|---|---\n",
      "2    |   |  \n",
      "\n",
      "\n",
      "   0   1   2\n",
      "0  O |   | X\n",
      "  ---|---|---\n",
      "1    | X |  \n",
      "  ---|---|---\n",
      "2    |   |  \n",
      "\n",
      "컴퓨터 'O'가 (0, 1)에 수를 놓습니다.\n",
      "\n",
      "   0   1   2\n",
      "0  O | O | X\n",
      "  ---|---|---\n",
      "1    | X |  \n",
      "  ---|---|---\n",
      "2    |   |  \n",
      "\n",
      "이미 말이 놓인 위치입니다. 다른 곳을 선택하세요.\n",
      "\n",
      "   0   1   2\n",
      "0  O | O | X\n",
      "  ---|---|---\n",
      "1    | X |  \n",
      "  ---|---|---\n",
      "2  X |   |  \n",
      "\n",
      "플레이어 'X'의 승리입니다!\n",
      "게임 종료.\n"
     ]
    }
   ],
   "source": [
    "import random # 컴퓨터가 랜덤하게 수를 놓게 하려면 필요 (현재 로직은 첫 빈칸)\n",
    "\n",
    "# 게임 보드 초기화 (3x3)\n",
    "board = [[' ' for _ in range(3)] for _ in range(3)]\n",
    "players = ['X', 'O'] # 플레이어와 컴퓨터\n",
    "\n",
    "def print_board(board):\n",
    "    \"\"\"게임 보드를 예쁘게 출력하는 함수\"\"\"\n",
    "    print(\"\\n   0   1   2\") # 열 번호 추가\n",
    "    for r in range(3):\n",
    "        # f-string을 사용하여 깔끔하게 출력\n",
    "        print(f\"{r}  {board[r][0]} | {board[r][1]} | {board[r][2]}\")\n",
    "        if (r != 2):\n",
    "            print(\"  ---|---|---\")\n",
    "    print() # 가독성을 위한 빈 줄 추가\n",
    "\n",
    "def is_board_full(board):\n",
    "    \"\"\"보드가 가득 찼는지 확인하는 함수 (무승부 확인용)\"\"\"\n",
    "    for row in board:\n",
    "        for cell in row:\n",
    "            if cell == ' ':\n",
    "                return False # 빈 칸이 있으면 False 반환\n",
    "    return True # 빈 칸이 없으면 True 반환\n",
    "\n",
    "def check_win(board, player):\n",
    "    \"\"\"특정 플레이어가 이겼는지 확인하는 함수\"\"\"\n",
    "    n = len(board)\n",
    "    # 가로 확인\n",
    "    for r in range(n):\n",
    "        if all(board[r][c] == player for c in range(n)):\n",
    "            return True\n",
    "    # 세로 확인\n",
    "    for c in range(n):\n",
    "        if all(board[r][c] == player for r in range(n)):\n",
    "            return True\n",
    "    # 대각선 (\\) 확인\n",
    "    if all(board[i][i] == player for i in range(n)):\n",
    "        return True\n",
    "    # 대각선 (/) 확인\n",
    "    if all(board[i][n - 1 - i] == player for i in range(n)):\n",
    "        return True\n",
    "    return False\n",
    "\n",
    "def get_player_move(board, player):\n",
    "    \"\"\"사용자로부터 유효한 좌표를 입력받는 함수\"\"\"\n",
    "    while True:\n",
    "        try:\n",
    "            # 좌표 입력 안내 개선\n",
    "            coord_str = input(f\"플레이어 '{player}', 좌표 (행 열)을 입력하세요 (예: 1 2): \")\n",
    "            x_str, y_str = coord_str.split()\n",
    "            x, y = int(x_str), int(y_str)\n",
    "\n",
    "            # 입력 범위 확인\n",
    "            if not (0 <= x < 3 and 0 <= y < 3):\n",
    "                print(\"잘못된 좌표입니다. 행과 열 모두 0, 1, 2 중에서 입력하세요.\")\n",
    "                continue\n",
    "\n",
    "            # 이미 놓인 위치인지 확인\n",
    "            if board[x][y] != ' ':\n",
    "                print(\"이미 말이 놓인 위치입니다. 다른 곳을 선택하세요.\")\n",
    "                continue\n",
    "\n",
    "            return x, y # 유효한 좌표 반환\n",
    "\n",
    "        except ValueError:\n",
    "            print(\"잘못된 입력입니다. 숫자를 공백으로 구분하여 입력하세요 (예: 1 2).\")\n",
    "        except Exception as e:\n",
    "            print(f\"예상치 못한 오류 발생: {e}\")\n",
    "\n",
    "def get_computer_move(board, player):\n",
    "    \"\"\"컴퓨터가 수를 놓을 위치를 결정하는 함수 (첫 번째 빈 칸)\"\"\"\n",
    "    for i in range(3):\n",
    "        for j in range(3):\n",
    "            if board[i][j] == ' ':\n",
    "                print(f\"컴퓨터 '{player}'가 ({i}, {j})에 수를 놓습니다.\")\n",
    "                return i, j\n",
    "    return None # 빈 칸이 없을 경우 (이론상 무승부 전에 호출됨)\n",
    "\n",
    "# --- 게임 시작 ---\n",
    "print(\"틱택토 게임을 시작합니다!\")\n",
    "current_player_index = 0 # 0: 플레이어 'X', 1: 컴퓨터 'O'\n",
    "\n",
    "while True:\n",
    "    print_board(board)\n",
    "    current_player = players[current_player_index]\n",
    "\n",
    "    if current_player == 'X': # 플레이어 차례\n",
    "        x, y = get_player_move(board, current_player)\n",
    "        board[x][y] = current_player\n",
    "    else: # 컴퓨터 차례\n",
    "        move = get_computer_move(board, current_player)\n",
    "        if move: # 빈 칸이 있으면\n",
    "             board[move[0]][move[1]] = current_player\n",
    "        # 컴퓨터가 수를 놓지 못하는 경우는 보드가 꽉 찼을 때인데,\n",
    "        # 그 전에 무승부나 승리 조건이 먼저 체크되어야 함\n",
    "\n",
    "    # 승리 확인\n",
    "    if check_win(board, current_player):\n",
    "        print_board(board)\n",
    "        print(f\"플레이어 '{current_player}'의 승리입니다!\")\n",
    "        break\n",
    "\n",
    "    # 무승부 확인 (보드가 꽉 찼는지)\n",
    "    if is_board_full(board):\n",
    "        print_board(board)\n",
    "        print(\"무승부입니다!\")\n",
    "        break\n",
    "\n",
    "    # 다음 플레이어로 전환\n",
    "    current_player_index = 1 - current_player_index # 0 -> 1, 1 -> 0\n",
    "\n",
    "print(\"게임 종료.\")"
   ]
  }
 ],
 "metadata": {
  "kernelspec": {
   "display_name": "base",
   "language": "python",
   "name": "python3"
  },
  "language_info": {
   "codemirror_mode": {
    "name": "ipython",
    "version": 3
   },
   "file_extension": ".py",
   "mimetype": "text/x-python",
   "name": "python",
   "nbconvert_exporter": "python",
   "pygments_lexer": "ipython3",
   "version": "3.12.3"
  }
 },
 "nbformat": 4,
 "nbformat_minor": 2
}
