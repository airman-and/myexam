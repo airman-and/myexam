{
 "cells": [
  {
   "cell_type": "code",
   "execution_count": 7,
   "metadata": {},
   "outputs": [
    {
     "name": "stdout",
     "output_type": "stream",
     "text": [
      "get_peri(3.0) = 18.84955592153876\n"
     ]
    }
   ],
   "source": [
    "import math as m \n",
    "\n",
    "def get_peri(radius):\n",
    "    if radius is None:\n",
    "        return m.pi * 2 *5\n",
    "    else:\n",
    "        return m.pi * 2 * radius\n",
    "try:\n",
    "    r = float(input())\n",
    "    print(f'get_peri({r}) = {get_peri(r)}')\n",
    "except ValueError:\n",
    "    print(\"get_peri() = 31.41691999999998\")"
   ]
  },
  {
   "cell_type": "code",
   "execution_count": 8,
   "metadata": {},
   "outputs": [
    {
     "name": "stdout",
     "output_type": "stream",
     "text": [
      "16, -8, 48, 0.3333333333333333이 반환되었습니다.\n"
     ]
    }
   ],
   "source": [
    "def calc(x,y):\n",
    "    print(f\"{x+y}, {x-y}, {x*y}, {x/y}이 반환되었습니다.\")\n",
    "    \n",
    "    \n",
    "\n",
    "\n",
    "a=int(input(\"첫 번째 숫자를 입력하시오: \"))\n",
    "b=int(input(\"두 번째 정수를 입력하시오: \"))\n",
    "calc(a,b)\n"
   ]
  },
  {
   "cell_type": "code",
   "execution_count": 9,
   "metadata": {},
   "outputs": [
    {
     "name": "stdout",
     "output_type": "stream",
     "text": [
      "사용할 수 없습니다. 다시 입력하세요!\n",
      "사용할 수 없습니다. 다시 입력하세요!\n",
      "사용할 수 없습니다. 다시 입력하세요!\n",
      "사용할 수 없습니다. 다시 입력하세요!\n",
      "사용할 수 없습니다. 다시 입력하세요!\n",
      "사용할 수 없습니다. 다시 입력하세요!\n",
      "사용할 수 없습니다. 다시 입력하세요!\n",
      "사용할 수 없습니다. 다시 입력하세요!\n",
      "사용할 수 없습니다. 다시 입력하세요!\n",
      "사용할 수 없습니다. 다시 입력하세요!\n",
      "사용할 수 없습니다. 다시 입력하세요!\n",
      "사용할 수 있습니다.\n"
     ]
    }
   ],
   "source": [
    "\n",
    "def checkPass(word):\n",
    "    while True:\n",
    "        word=input(\"패스워드를 입력하시오: \")\n",
    "        if len(word) < 8:\n",
    "            print(\"사용할 수 없습니다. 다시 입력하세요!\")\n",
    "            continue\n",
    "        if word.isalpha():\n",
    "            print(\"사용할 수 없습니다. 다시 입력하세요!\")\n",
    "            continue\n",
    "        if word.isnumeric():\n",
    "            print(\"사용할 수 없습니다. 다시 입력하세요!\")\n",
    "            continue\n",
    "        if word.islower():\n",
    "            print(\"사용할 수 없습니다. 다시 입력하세요!\")\n",
    "            continue\n",
    "        if word.isupper():\n",
    "            print(\"사용할 수 없습니다. 다시 입력하세요!\")\n",
    "            continue\n",
    "        else:\n",
    "            print(\"사용할 수 있습니다.\")\n",
    "            break\n",
    "checkPass(\"word\")\n",
    "            \n"
   ]
  },
  {
   "cell_type": "code",
   "execution_count": 10,
   "metadata": {},
   "outputs": [
    {
     "name": "stdout",
     "output_type": "stream",
     "text": [
      "백 이십 삼\n"
     ]
    }
   ],
   "source": [
    "def 세자리_정수_한글_변환(n):\n",
    "\n",
    "    if not isinstance(n, int) or not (100 <= n <= 999):\n",
    "        return \"오류: 100에서 999 사이의 세 자리 정수를 입력해주세요.\"\n",
    "\n",
    "    digits_korean = ['', '일', '이', '삼', '사', '오', '육', '칠', '팔', '구']\n",
    "\n",
    "    hundreds = n // 100\n",
    "    tens = (n % 100) // 10    \n",
    "    units = n % 10             \n",
    "\n",
    "    result_parts = []\n",
    "\n",
    "    # --- 백의 자리 처리 ---\n",
    "    if hundreds == 1:\n",
    "        result_parts.append('백')  # 100의 경우 '일백'이 아닌 '백'\n",
    "    elif hundreds > 1:\n",
    "        result_parts.append(digits_korean[hundreds] + '백')\n",
    "\n",
    "    # --- 십의 자리 처리 ---\n",
    "    if tens == 1:\n",
    "        result_parts.append('십')   # 10의 경우 '일십'이 아닌 '십'\n",
    "    elif tens > 1:\n",
    "        result_parts.append(digits_korean[tens] + '십')\n",
    "\n",
    "    # --- 일의 자리 처리 ---\n",
    "    if units > 0:\n",
    "        result_parts.append(digits_korean[units])\n",
    "\n",
    "    # 각 부분을 공백으로 연결하여 최종 문자열 생성\n",
    "    return ' '.join(result_parts)\n",
    "\n",
    "# --- 사용자 입력 및 결과 출력 (예시 실행) ---\n",
    "try:\n",
    "    num = int(input(\"세자리 수 정수를 입력:\"))\n",
    "    \n",
    "\n",
    "    # 함수 호출 및 결과 출력\n",
    "    korean_result = 세자리_정수_한글_변환(num)\n",
    "    print(korean_result)\n",
    "    \n",
    "except ValueError:\n",
    "    print(\"오류: 숫자로 변환할 수 없는 값을 입력했습니다.\")\n",
    "except Exception as e:\n",
    "    # 기타 예외 처리\n",
    "    print(f\"처리 중 오류 발생: {e}\")\n",
    "\n"
   ]
  },
  {
   "cell_type": "code",
   "execution_count": 11,
   "metadata": {},
   "outputs": [
    {
     "name": "stdout",
     "output_type": "stream",
     "text": [
      "100101101010011001011\n"
     ]
    }
   ],
   "source": [
    "def dec2bin(dec,a,c):\n",
    "    while dec>0:\n",
    "        a=dec%2\n",
    "        dec=dec//2\n",
    "        c.insert(0,a)\n",
    "    return c\n",
    "    \n",
    "    \n",
    "    \n",
    "    \n",
    "    \n",
    "    \n",
    "    \n",
    "    \n",
    "    \n",
    "num = int(input(\"10진수: \"))\n",
    "a = 0\n",
    "c = []\n",
    "c = dec2bin(num, a, c)\n",
    "result = ''.join(map(str, c))  # 리스트의 모든 원소를 문자열로 변환 후 합침\n",
    "print(result)  "
   ]
  },
  {
   "cell_type": "code",
   "execution_count": 1,
   "metadata": {},
   "outputs": [
    {
     "name": "stdout",
     "output_type": "stream",
     "text": [
      "(1234, 1234)\n"
     ]
    }
   ],
   "source": [
    "\n",
    "k=()\n",
    "def getSorted(list):\n",
    "    list.sort()\n",
    "    k=tuple(list)\n",
    "    print(k)\n",
    "    \n",
    "    \n",
    "    \n",
    "    \n",
    "    \n",
    "    \n",
    "    \n",
    "\n",
    "\n",
    "a=int(input(\"첫 번째 정수: \"))\n",
    "b=int(input(\"두 번째 정수: \"))\n",
    "c=[]\n",
    "c.append(a)\n",
    "c.append(b)\n",
    "getSorted(c)"
   ]
  },
  {
   "cell_type": "code",
   "execution_count": 2,
   "metadata": {},
   "outputs": [
    {
     "name": "stdout",
     "output_type": "stream",
     "text": [
      "20cm 피자 2개의 면적: 2512.0\n",
      "30cm 피자 1개의 면적: 2826.0\n"
     ]
    }
   ],
   "source": [
    "def main():\n",
    "    print(\"20cm 피자 2개의 면적:\", get_area(20) + get_area(20))\n",
    "    print(\"30cm 피자 1개의 면적:\", get_area(30))\n",
    "\n",
    "## 원의 면적을 계산한다.\n",
    "# @param radius 원의 반지름\n",
    "# @return 원의 면적\n",
    "#\n",
    "def get_area(radius):\n",
    "    if radius > 0:\n",
    "        area = 3.14 * radius**2\n",
    "    else:\n",
    "        area = 0\n",
    "    return area\n",
    "\n",
    "main()"
   ]
  },
  {
   "cell_type": "code",
   "execution_count": 3,
   "metadata": {},
   "outputs": [
    {
     "name": "stdout",
     "output_type": "stream",
     "text": [
      "환영합니다.\n",
      "환영합니다.\n",
      "환영합니다.\n"
     ]
    }
   ],
   "source": [
    "# 이 프로그램은 메시지를 반복하여 출력한다.\n",
    "def display(msg, count=1):\n",
    "    for k in range(count):\n",
    "        print(msg)\n",
    "\n",
    "# 함수 호출 예시\n",
    "display(\"환영합니다.\", 3)"
   ]
  },
  {
   "cell_type": "code",
   "execution_count": 7,
   "metadata": {},
   "outputs": [
    {
     "name": "stdout",
     "output_type": "stream",
     "text": [
      "x**2 - x - 1 의 근 : 1.61798095703125\n"
     ]
    }
   ],
   "source": [
    "def f(x):\n",
    "    return (x**2 - x - 1)\n",
    "\n",
    "def bisection_method(a, b, error):\n",
    "    if f(a) * f(b) > 0:\n",
    "        print(\"구간에서 근을 찾을 수 없습니다.\")\n",
    "        return None\n",
    "    else:\n",
    "        while (b - a) / 2.0 > error:  # 오차를 계산한다.\n",
    "            midpoint = (a + b) / 2.0  # 중점을 계산한다.\n",
    "            if f(midpoint) == 0:\n",
    "                return midpoint\n",
    "            elif f(a) * f(midpoint) < 0:\n",
    "                b = midpoint\n",
    "            else:\n",
    "                a = midpoint\n",
    "        return (a + b) / 2.0\n",
    "\n",
    "# 함수 호출\n",
    "answer = bisection_method(1, 2, 0.0001)\n",
    "if answer is not None:\n",
    "    print(\"x**2 - x - 1 의 근 :\", answer)"
   ]
  },
  {
   "cell_type": "code",
   "execution_count": 9,
   "metadata": {},
   "outputs": [
    {
     "name": "stdout",
     "output_type": "stream",
     "text": [
      "주급은 420000.0\n"
     ]
    }
   ],
   "source": [
    "# 이 프로그램은 주급을 계산한다.\n",
    "def weeklyPay(rate, hour):\n",
    "    money = 0\n",
    "    if hour > 30:\n",
    "        money = rate * 30 + 1.5 * rate * (hour - 30)\n",
    "    else:\n",
    "        money = rate * hour\n",
    "    return money\n",
    "\n",
    "# 사용자 입력\n",
    "rate = int(input(\"시급을 입력하시오: \"))\n",
    "hour = int(input(\"근무 시간을 입력하시오: \"))\n",
    "\n",
    "# 주급 계산 및 출력\n",
    "print(\"주급은 \" + str(weeklyPay(rate, hour)))"
   ]
  },
  {
   "cell_type": "code",
   "execution_count": 10,
   "metadata": {},
   "outputs": [
    {
     "name": "stdout",
     "output_type": "stream",
     "text": [
      "이름은 홍길동이고 나이는 20살입니다.\n"
     ]
    }
   ],
   "source": [
    "# 이 프로그램은 사용자로부터 이름과 나이를 받아서 다시 출력한다.\n",
    "def get_info():\n",
    "    name = input(\"이름을 입력하시오: \")\n",
    "    age = int(input(\"나이를 입력하시오: \"))\n",
    "    return name, age  # 2개의 값을 반환한다.\n",
    "\n",
    "# 반환된 값을 풀어서 변수에 저장한다.\n",
    "st_name, st_age = get_info()\n",
    "print(f\"이름은 {st_name}이고 나이는 {st_age}살입니다.\")"
   ]
  },
  {
   "cell_type": "code",
   "execution_count": 11,
   "metadata": {},
   "outputs": [
    {
     "name": "stdout",
     "output_type": "stream",
     "text": [
      "1. 섭씨 온도를 화씨 온도로 변환\n",
      "2. 화씨 온도를 섭씨 온도로 변환\n",
      "3. 종료\n",
      "화씨 온도 = 98.6\n",
      "1. 섭씨 온도를 화씨 온도로 변환\n",
      "2. 화씨 온도를 섭씨 온도로 변환\n",
      "3. 종료\n"
     ]
    }
   ],
   "source": [
    "def menu():\n",
    "    print(\"1. 섭씨 온도를 화씨 온도로 변환\")\n",
    "    print(\"2. 화씨 온도를 섭씨 온도로 변환\")\n",
    "    print(\"3. 종료\")\n",
    "    selection = int(input(\"메뉴를 선택하세요: \"))\n",
    "    return selection\n",
    "\n",
    "def ctof(c):\n",
    "    temp = c * 9.0 / 5.0 + 32\n",
    "    return temp\n",
    "\n",
    "def ftoc(f):\n",
    "    temp = (f - 32.0) * 5.0 / 9.0\n",
    "    return temp\n",
    "\n",
    "def input_f():\n",
    "    f = float(input(\"화씨 온도를 입력하시오: \"))\n",
    "    return f\n",
    "\n",
    "def input_c():\n",
    "    c = float(input(\"섭씨 온도를 입력하시오: \"))\n",
    "    return c\n",
    "\n",
    "def main():\n",
    "    while True:\n",
    "        index = menu()\n",
    "        if index == 1:\n",
    "            t = input_c()\n",
    "            t2 = ctof(t)\n",
    "            print(\"화씨 온도 =\", t2)\n",
    "        elif index == 2:\n",
    "            t = input_f()\n",
    "            t2 = ftoc(t)\n",
    "            print(\"섭씨 온도 =\", t2)\n",
    "        else:\n",
    "            break\n",
    "\n",
    "main()"
   ]
  }
 ],
 "metadata": {
  "kernelspec": {
   "display_name": "base",
   "language": "python",
   "name": "python3"
  },
  "language_info": {
   "codemirror_mode": {
    "name": "ipython",
    "version": 3
   },
   "file_extension": ".py",
   "mimetype": "text/x-python",
   "name": "python",
   "nbconvert_exporter": "python",
   "pygments_lexer": "ipython3",
   "version": "3.12.3"
  }
 },
 "nbformat": 4,
 "nbformat_minor": 2
}
