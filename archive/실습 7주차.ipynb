{
 "cells": [
  {
   "cell_type": "code",
   "execution_count": 2,
   "metadata": {},
   "outputs": [
    {
     "name": "stdout",
     "output_type": "stream",
     "text": [
      "[1, 2, 3, 4, 5]\n"
     ]
    }
   ],
   "source": [
    "a=[]\n",
    "b=[]\n",
    "for i in range(10):\n",
    "    a.append(int(input()))\n",
    "b=list(set(a))\n",
    "b.sort()\n",
    "print(b)\n"
   ]
  },
  {
   "cell_type": "code",
   "execution_count": 1,
   "metadata": {},
   "outputs": [
    {
     "name": "stdout",
     "output_type": "stream",
     "text": [
      "620\n"
     ]
    }
   ],
   "source": [
    "myDict = {\"옷\":100, \"신발\":200, \"모자\":320}\n",
    "total = sum(myDict.values())\n",
    "print(total)"
   ]
  },
  {
   "cell_type": "code",
   "execution_count": 1,
   "metadata": {},
   "outputs": [
    {
     "name": "stdout",
     "output_type": "stream",
     "text": [
      "모두 포함된 글자: d f s a\n"
     ]
    }
   ],
   "source": [
    "a=input('첫번째 문자열: ')\n",
    "b=input('두번째 문자열: ')\n",
    "A=list(a)\n",
    "B=list(b)\n",
    "c=[]\n",
    "\n",
    "for i in A:\n",
    "    for j in B:\n",
    "        if i == j:\n",
    "            c.append(i)\n",
    "k=list(set(c))\n",
    "result = \" \".join(k)\n",
    "\n",
    "print('모두 포함된 글자:', result)"
   ]
  },
  {
   "cell_type": "code",
   "execution_count": 9,
   "metadata": {},
   "outputs": [
    {
     "name": "stdout",
     "output_type": "stream",
     "text": [
      "****\n"
     ]
    }
   ],
   "source": [
    "ban_input = input('금지어 입력: ')\n",
    "ban_words = ban_input.split() # 금지어 리스트\n",
    "\n",
    "letter_input = input('문자열 입력: ')\n",
    "letter_words = letter_input.split() # 입력 문자열을 단어 리스트로 변환\n",
    "\n",
    "# letter_words 리스트의 각 단어를 확인하고, 금지어면 변경합니다.\n",
    "for i in range(len(letter_words)): # 인덱스를 사용해 리스트 순회\n",
    "    word = letter_words[i] # 현재 인덱스의 단어\n",
    "    if word in ban_words: # 현재 단어가 금지어 목록에 있다면\n",
    "        # 리스트의 해당 인덱스(i) 위치의 값을 변경\n",
    "        letter_words[i] = '*' * len(word)\n",
    "\n",
    "# 변경된 리스트를 다시 문자열로 합쳐서 출력\n",
    "result_string = ' '.join(letter_words)\n",
    "print(result_string)"
   ]
  },
  {
   "cell_type": "code",
   "execution_count": null,
   "metadata": {},
   "outputs": [
    {
     "name": "stdout",
     "output_type": "stream",
     "text": [
      "03/21/2022\n",
      "['03', '21', '2022']\n",
      "['2022', '03', '21', '2022']\n",
      "['2022', '03', '21']\n",
      "20220321\n"
     ]
    }
   ],
   "source": [
    "a=input()\n",
    "\n",
    "a=a.split('/')\n",
    "\n",
    "a.insert(0,a[2])\n",
    "\n",
    "a.pop(3)\n",
    "\n",
    "\n",
    "\n",
    "\n",
    "result=''.join(a)\n",
    "print(result)"
   ]
  },
  {
   "cell_type": "code",
   "execution_count": 15,
   "metadata": {},
   "outputs": [
    {
     "name": "stdout",
     "output_type": "stream",
     "text": [
      "생성된 8자리 강력한 암호: 2c4!/VCG\n"
     ]
    }
   ],
   "source": [
    "import random\n",
    "import string\n",
    "\n",
    "def generate_strong_password(length=8):\n",
    "  \"\"\"\n",
    "  지정된 길이의 강력한 암호를 생성합니다.\n",
    "  암호는 최소 1개의 소문자, 대문자, 숫자, 특수문자를 포함합니다.\n",
    "\n",
    "  Args:\n",
    "    length (int): 생성할 암호의 길이 (기본값: 8)\n",
    "\n",
    "  Returns:\n",
    "    str: 생성된 강력한 암호\n",
    "  \"\"\"\n",
    "  if length < 4:\n",
    "    raise ValueError(\"암호 길이는 최소 4자 이상이어야 합니다 (각 문자 종류 포함).\")\n",
    "\n",
    "  # 1. 필수 문자 종류별로 1개씩 미리 선택\n",
    "  password_chars = [\n",
    "      random.choice(string.ascii_lowercase), # 소문자 1개\n",
    "      random.choice(string.ascii_uppercase), # 대문자 1개\n",
    "      random.choice(string.digits),         # 숫자 1개\n",
    "      random.choice(string.punctuation)    # 특수문자 1개\n",
    "  ]\n",
    "\n",
    "  # 2. 남은 길이를 채울 모든 가능한 문자 집합 정의\n",
    "  all_characters = string.ascii_lowercase + string.ascii_uppercase + string.digits + string.punctuation\n",
    "\n",
    "  # 3. 남은 길이만큼 전체 문자 집합에서 무작위로 선택하여 추가\n",
    "  remaining_length = length - 4\n",
    "  for _ in range(remaining_length):\n",
    "    password_chars.append(random.choice(all_characters))\n",
    "\n",
    "  # 4. 생성된 문자 리스트를 무작위로 섞음 (순서 예측 불가능하게)\n",
    "  random.shuffle(password_chars)\n",
    "\n",
    "  # 5. 리스트를 문자열로 결합하여 최종 암호 생성\n",
    "  password = \"\".join(password_chars)\n",
    "\n",
    "  return password\n",
    "\n",
    "# 8자리 강력한 암호 생성 및 출력\n",
    "try:\n",
    "  new_password = generate_strong_password(8)\n",
    "  print(f\"생성된 8자리 강력한 암호: {new_password}\")\n",
    "\n",
    "  # (선택사항) 다른 길이로 생성 예시\n",
    "  # password_12 = generate_strong_password(12)\n",
    "  # print(f\"생성된 12자리 강력한 암호: {password_12}\")\n",
    "\n",
    "except ValueError as e:\n",
    "  print(f\"오류: {e}\")"
   ]
  },
  {
   "cell_type": "code",
   "execution_count": 2,
   "metadata": {},
   "outputs": [
    {
     "name": "stdout",
     "output_type": "stream",
     "text": [
      "\n",
      "공통적인글자: f "
     ]
    }
   ],
   "source": [
    "s1=input(\"첫번째문자열:\")\n",
    "s2=input(\"두번째문자열:\")\n",
    "list1 = list( set(s1) & set(s2) ) # 세트로만들고교집합연산을한다. \n",
    "print(\"\\n공통적인글자:\", end=\" \")\n",
    "for i in list1:\n",
    "    print(i, end=\" \")\n"
   ]
  },
  {
   "cell_type": "code",
   "execution_count": 3,
   "metadata": {},
   "outputs": [
    {
     "name": "stdout",
     "output_type": "stream",
     "text": [
      "사용된단어의개수=  10\n",
      "{'ab', 'dj', 'qwgjfliqh', 'jsjfshkjlqf', 'hjsdafg', 'djd', 'djdj', 'sdfhk', 'qjsdfjddjd', 'asdj'}\n"
     ]
    }
   ],
   "source": [
    "txt = input(\"입력텍스트: \")\n",
    "words = txt.split(\" \")\n",
    "unique = set(words) # 집합으로만들면자동적으로중복을제거한다. \n",
    "print(\"사용된단어의개수= \", len(unique))\n",
    "print(unique)"
   ]
  },
  {
   "cell_type": "code",
   "execution_count": 7,
   "metadata": {},
   "outputs": [
    {
     "name": "stdout",
     "output_type": "stream",
     "text": [
      "하나\n"
     ]
    }
   ],
   "source": [
    "english_dict ={} # 공백딕셔너리를생성한다. \n",
    "english_dict[\"one\"]=\"하나\" # 딕셔너리에단어와의미를추가한다. \n",
    "english_dict[\"two\"]=\"둘\"\n",
    "english_dict[\"three\"]=\"셋\"\n",
    "word =input(\"단어를 입력하시오: \")\n",
    "print (english_dict[word])"
   ]
  },
  {
   "cell_type": "code",
   "execution_count": null,
   "metadata": {},
   "outputs": [
    {
     "name": "stdout",
     "output_type": "stream",
     "text": [
      "\n",
      "1. 연락처 추가\n",
      "2. 연락처 삭제\n",
      "3. 연락처 검색\n",
      "4. 연락처 출력\n",
      "5. 종료\n",
      "'조현영' 연락처가 추가/수정되었습니다.\n",
      "\n",
      "1. 연락처 추가\n",
      "2. 연락처 삭제\n",
      "3. 연락처 검색\n",
      "4. 연락처 출력\n",
      "5. 종료\n",
      "조현영의 전화번호 : 010-6494-3103\n",
      "\n",
      "1. 연락처 추가\n",
      "2. 연락처 삭제\n",
      "3. 연락처 검색\n",
      "4. 연락처 출력\n",
      "5. 종료\n"
     ]
    }
   ],
   "source": [
    "# 이름과 전화번호를 입력받아서 튜플로 반환한다.\n",
    "def get_contact():\n",
    "    \"\"\"\n",
    "    사용자로부터 이름과 전화번호를 입력받아 튜플로 반환합니다.\n",
    "    \"\"\"\n",
    "    name = input(\"이름 : \")\n",
    "    number = input(\"전화번호 :\")\n",
    "    return name, number  # 튜플 (name, number)로 반환\n",
    "\n",
    "# 메뉴를 화면에 출력하고 사용자 선택을 반환한다.\n",
    "def display_menu():\n",
    "    \"\"\"\n",
    "    메뉴 옵션을 화면에 출력하고 사용자의 선택(정수)을 반환합니다.\n",
    "    \"\"\"\n",
    "    print(\"\\n1. 연락처 추가\")\n",
    "    print(\"2. 연락처 삭제\")\n",
    "    print(\"3. 연락처 검색\")\n",
    "    print(\"4. 연락처 출력\")\n",
    "    print(\"5. 종료\")\n",
    "    try:\n",
    "        select = int(input(\"메뉴 항목을 선택하시오 : \"))\n",
    "        return select\n",
    "    except ValueError: # 숫자가 아닌 값이 입력될 경우 예외 처리\n",
    "        print(\"숫자로 입력해주세요.\")\n",
    "        return 0 # 잘못된 입력 처리 (예: 다시 메뉴 표시)\n",
    "\n",
    "# 메인 함수\n",
    "def main():\n",
    "    \"\"\"\n",
    "    주소록 관리 프로그램의 메인 로직을 실행합니다.\n",
    "    \"\"\"\n",
    "    address_book = {}  # 공백 딕셔너리를 생성한다.\n",
    "\n",
    "    while True:\n",
    "        user = display_menu()\n",
    "\n",
    "        if user == 1: # 1. 연락처 추가\n",
    "            name, number = get_contact()\n",
    "            address_book[name] = number  # name을 키로, number를 값으로 추가/수정한다.\n",
    "            print(f\"'{name}' 연락처가 추가/수정되었습니다.\")\n",
    "\n",
    "        elif user == 2: # 2. 연락처 삭제\n",
    "            # 삭제 시에는 이름만 필요하므로, get_contact 대신 이름만 입력받는 것이 더 효율적일 수 있습니다.\n",
    "            # 여기서는 주어진 설명을 따라 get_contact()를 사용하되, 이름만 사용합니다.\n",
    "            # name, _ = get_contact() # 번호는 사용하지 않으므로 _ 로 받거나, 아래처럼 이름만 입력받도록 수정\n",
    "            name_to_delete = input(\"삭제할 이름 : \")\n",
    "            if name_to_delete in address_book:\n",
    "                # address_book.pop(name_to_delete) # pop은 값을 반환하면서 삭제\n",
    "                del address_book[name_to_delete] # del 키워드로 삭제\n",
    "                print(f\"'{name_to_delete}' 연락처가 삭제되었습니다.\")\n",
    "            else:\n",
    "                print(f\"'{name_to_delete}' 연락처를 찾을 수 없습니다.\")\n",
    "\n",
    "        elif user == 3: # 3. 연락처 검색\n",
    "            search_name = input(\"검색할 이름 : \")\n",
    "            # get() 메서드를 사용하면 키가 없을 때 오류 대신 None(기본값)을 반환받을 수 있습니다.\n",
    "            number = address_book.get(search_name)\n",
    "            if number: # None이 아니면 (즉, 키가 존재하면)\n",
    "                print(f\"{search_name}의 전화번호 : {number}\")\n",
    "            else:\n",
    "                print(f\"'{search_name}' 연락처를 찾을 수 없습니다.\")\n",
    "\n",
    "        elif user == 4: # 4. 연락처 출력\n",
    "            if not address_book:\n",
    "                print(\"주소록이 비어 있습니다.\")\n",
    "                continue # 다음 루프로 넘어감\n",
    "\n",
    "            print(\"\\n--- 연락처 목록 (이름순) ---\")\n",
    "            # 딕셔너리의 키를 정렬하여 순회\n",
    "            for key in sorted(address_book):\n",
    "                print(f\"{key}의 전화번호 : {address_book[key]}\")\n",
    "            print(\"----------------------------\")\n",
    "\n",
    "        elif user == 5: # 5. 종료\n",
    "            print(\"프로그램을 종료합니다.\")\n",
    "            break # while 루프 탈출\n",
    "\n",
    "        else: # 1~5 외의 입력 처리\n",
    "            if user != 0: # display_menu에서 잘못된 입력(0) 반환 시 메시지 중복 방지\n",
    "                print(\"잘못된 메뉴 선택입니다. 1~5 사이의 숫자를 입력하세요.\")\n",
    "\n",
    "# 프로그램 시작점\n",
    "if __name__ == \"__main__\":\n",
    "    main()"
   ]
  },
  {
   "cell_type": "code",
   "execution_count": 1,
   "metadata": {},
   "outputs": [
    {
     "name": "stdout",
     "output_type": "stream",
     "text": [
      "Kim 의평균성적= 92.33333333333333\n",
      "Lee 의평균성적= 63.666666666666664\n",
      "Choi 의평균성적= 50.0\n"
     ]
    }
   ],
   "source": [
    "score_dic =   {           \n",
    "\"Kim\":[99,83,95],\n",
    "\"Lee\":[68,45,78],\n",
    "\"Choi\":[25,56,69]\n",
    "}\n",
    "for name, scores in  score_dic.items():\n",
    "    print(name,\"의평균성적=\",sum(scores)/len(scores))\n"
   ]
  },
  {
   "cell_type": "code",
   "execution_count": 2,
   "metadata": {},
   "outputs": [
    {
     "name": "stdout",
     "output_type": "stream",
     "text": [
      "Create 의등장횟수= 1\n",
      "because 의등장횟수= 1\n",
      "become 의등장횟수= 1\n",
      "believe 의등장횟수= 1\n",
      "for 의등장횟수= 1\n",
      "grandest 의등장횟수= 1\n",
      "highest, 의등장횟수= 1\n",
      "life, 의등장횟수= 1\n",
      "possible 의등장횟수= 1\n",
      "the 의등장횟수= 1\n",
      "vision 의등장횟수= 1\n",
      "what 의등장횟수= 1\n",
      "you 의등장횟수= 2\n",
      "your 의등장횟수= 1\n"
     ]
    }
   ],
   "source": [
    "text_data =\"Create the highest, grandest vision possible for your life, because you become what you believe\"\n",
    "word_dic = {} # 단어들과출현횟수를저장하는딕셔너리를생성\n",
    "for w in text_data.split(): # 텍스트를단어들로분리하여반복한다. \n",
    "    if w in word_dic: # 단어가이미딕셔너리에있으면\n",
    "        word_dic[w]  += 1  # 출현횟수를1 증가한다. \n",
    "    else: # 처음나온단어이면1로초기화한다. \n",
    "        word_dic[w]   = 1  \n",
    "for w, count in sorted(word_dic.items()): # 키와값을정렬하여반복처리한다. \n",
    "    print(w, \"의등장횟수=\", count)\n"
   ]
  },
  {
   "cell_type": "code",
   "execution_count": 4,
   "metadata": {},
   "outputs": [
    {
     "name": "stdout",
     "output_type": "stream",
     "text": [
      "회문입니다.\n"
     ]
    }
   ],
   "source": [
    "s = input(\"문자열을입력하시오: \")\n",
    "s1 = s[::-1] # 문자열을거꾸로만든다. \n",
    "if( s == s1 ):\n",
    "    print(\"회문입니다.\")\n",
    "else:\n",
    "    print(\"회문이아닙니다.\")\n"
   ]
  },
  {
   "cell_type": "code",
   "execution_count": 8,
   "metadata": {},
   "outputs": [
    {
     "name": "stdout",
     "output_type": "stream",
     "text": [
      "AJ\n"
     ]
    }
   ],
   "source": [
    "phrase  = input(\"문자열을입력하시오: \")\n",
    "acronym = \"\"\n",
    "# 대문자로만든후에단어들로분리한다. \n",
    "for word in phrase.upper().split():\n",
    "    acronym += word[0] # 단어를첫글자만을acronym에추가한다. \n",
    "print( acronym )\n"
   ]
  },
  {
   "cell_type": "code",
   "execution_count": 7,
   "metadata": {},
   "outputs": [
    {
     "name": "stdout",
     "output_type": "stream",
     "text": [
      "a010649943103@gmail.com\n",
      "아이디:a010649943103\n",
      "도메인:gmail.com\n"
     ]
    }
   ],
   "source": [
    "address=input(\"이메일주소를입력하시오: \")\n",
    "(id, domain) = address.split(\"@\")\n",
    "print(address)\n",
    "print(\"아이디:\"+id)\n",
    "print(\"도메인:\"+domain)\n"
   ]
  },
  {
   "cell_type": "code",
   "execution_count": 11,
   "metadata": {},
   "outputs": [
    {
     "name": "stdout",
     "output_type": "stream",
     "text": [
      "{'alphas': 9, 'digits': 0, 'spaces': 1}\n"
     ]
    }
   ],
   "source": [
    "sentence = input(\"문자열을입력하시오: \")\n",
    "table ={\"alphas\":0,\"digits\":0,\"spaces\":0 }\n",
    "for i in sentence:\n",
    "    if i.isalpha():\n",
    "        table[\"alphas\"]+=1\n",
    "    if i.isdigit():\n",
    "        table[\"digits\"]+=1\n",
    "    if i.isspace():\n",
    "        table[\"spaces\"]+=1\n",
    "print(table)\n"
   ]
  },
  {
   "cell_type": "code",
   "execution_count": 9,
   "metadata": {},
   "outputs": [
    {
     "name": "stdout",
     "output_type": "stream",
     "text": [
      "6\n"
     ]
    }
   ],
   "source": [
    "t = \"Python is very easy and powerful!\"\n",
    "length = len(t.split(\" \"))\n",
    "print(length)"
   ]
  },
  {
   "cell_type": "code",
   "execution_count": 10,
   "metadata": {},
   "outputs": [
    {
     "name": "stdout",
     "output_type": "stream",
     "text": [
      "5862\n"
     ]
    }
   ],
   "source": [
    "import random\n",
    "\n",
    "s= \"0123456789\"\n",
    "paslen = 4\n",
    "p = \"\".join(random.sample(s, paslen))\n",
    "print(p)"
   ]
  }
 ],
 "metadata": {
  "kernelspec": {
   "display_name": "base",
   "language": "python",
   "name": "python3"
  },
  "language_info": {
   "codemirror_mode": {
    "name": "ipython",
    "version": 3
   },
   "file_extension": ".py",
   "mimetype": "text/x-python",
   "name": "python",
   "nbconvert_exporter": "python",
   "pygments_lexer": "ipython3",
   "version": "3.12.3"
  }
 },
 "nbformat": 4,
 "nbformat_minor": 2
}
