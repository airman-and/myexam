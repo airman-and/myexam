{
 "cells": [
  {
   "cell_type": "markdown",
   "metadata": {},
   "source": [
    "# 객체란?\n",
    "객체는 속성(attribute)와 동작(action)을 가진다.\n",
    "\n",
    "# 클래스\n",
    "클래스는 객체에 대한 설계도이다.\n",
    "특정한 종류의 객체들을 찍어내는 형틀 또는 청사진이라고도 할 수 있다.\n",
    "클래스로부터 만들어지는 객체를 그 클래스의 instance라고 한다.\n",
    "\n",
    "# 파이썬에서는 모든 것이 객체이다.\n",
    "\n",
    "# 캡슐화\n",
    "- 공용 인터페이스만 제공하고 구현 세부 사항을 감추는 것은 캡츌화(encapsulation)이라고 한다.\n",
    "\n",
    "# 객체의 멤버 접근\n",
    "\n",
    "# 생성자\n",
    "- 생성자는 일반적으로 객체의 인스턴스 변수들을 정의하고 초기화한다.\n",
    "\n",
    "# 하나의 클래스로 객체는 많이 만들 수 있다.\n"
   ]
  },
  {
   "cell_type": "code",
   "execution_count": 1,
   "metadata": {},
   "outputs": [
    {
     "name": "stdout",
     "output_type": "stream",
     "text": [
      "9 10 True\n",
      "11 10 True\n"
     ]
    }
   ],
   "source": [
    "class Television:\n",
    "    def __init__(self, channel, volume, on):\n",
    "        self.channel = channel\n",
    "        self.volume = volume\n",
    "        self.on = on\n",
    "    \n",
    "    def show(self):\n",
    "        print(self.channel, self.volume, self.on)\n",
    "    \n",
    "    def setChannel(self, channel):\n",
    "        self.channel = channel\n",
    "    \n",
    "    def getChannel(self):\n",
    "        return self.channel\n",
    "t = Television(9, 10, True)\n",
    "t.show()\n",
    "\n",
    "t.setChannel(11)\n",
    "t.show()\n"
   ]
  },
  {
   "cell_type": "code",
   "execution_count": 14,
   "metadata": {},
   "outputs": [
    {
     "name": "stdout",
     "output_type": "stream",
     "text": [
      "원의 면적 314.1592653589793\n",
      "원의 둘레 62.83185307179586\n"
     ]
    }
   ],
   "source": [
    "import math\n",
    "\n",
    "class Circle:\n",
    "    def __init__(self, radius):\n",
    "        self.radius = radius\n",
    "    \n",
    "    def area(self):\n",
    "        return math.pi * self.radius ** 2\n",
    "    \n",
    "    def circumference(self):\n",
    "        return 2 * math.pi * self.radius\n",
    "\n",
    "c= Circle(10)\n",
    "print(\"원의 면적\",c.area()) \n",
    "print(\"원의 둘레\",c.circumference())"
   ]
  },
  {
   "cell_type": "code",
   "execution_count": 15,
   "metadata": {},
   "outputs": [
    {
     "name": "stdout",
     "output_type": "stream",
     "text": [
      "자동차 객체를  생성하였습니다.\n",
      "자동차의 색상은 blue 입니다.\n",
      "자동차의 모델은 E-class 입니다.\n",
      "자동차의 속도는 0 입니다.\n",
      "자동차의 속도를 60 로 변경하였습니다.\n"
     ]
    }
   ],
   "source": [
    "class Car:\n",
    "    def __init__(self, speed, color, model):\n",
    "        self.speed = speed\n",
    "        self.color = color\n",
    "        self.model = model\n",
    "    def drive(self):\n",
    "        self.speed = 60\n",
    "myCar = Car(0, \"blue\", \"E-class\")\n",
    "\n",
    "print(\"자동차 객체를  생성하였습니다.\")\n",
    "print(\"자동차의 색상은\", myCar.color, \"입니다.\")\n",
    "print(\"자동차의 모델은\", myCar.model, \"입니다.\")\n",
    "print(\"자동차의 속도는\", myCar.speed, \"입니다.\")\n",
    "\n",
    "myCar.drive()\n",
    "print(\"자동차의 속도를\", myCar.speed, \"로 변경하였습니다.\")"
   ]
  },
  {
   "cell_type": "markdown",
   "metadata": {},
   "source": [
    "# 정보 은닉\n",
    "- 파이썬에서 인스턴스 변수를 private으로 정의하려면 변수 이름 앞에 __을 붙이면 된다.\n",
    "- __이 붙은 인스턴스 변수는 클래스 내부"
   ]
  },
  {
   "cell_type": "code",
   "execution_count": 18,
   "metadata": {},
   "outputs": [
    {
     "name": "stdout",
     "output_type": "stream",
     "text": [
      "{'_student__name': '홍길동', '_student__age': 20, '_student__major': '컴퓨터'}\n",
      "홍길동\n",
      "20\n",
      "컴퓨터\n"
     ]
    }
   ],
   "source": [
    "class student:\n",
    "    def __init__(self, name, age, major):\n",
    "        self.__name = name\n",
    "        self.__age = age\n",
    "        self.__major = major\n",
    "    \n",
    "obj= student(\"홍길동\", 20, \"컴퓨터\")\n",
    "print(obj.__dict__)\n",
    "print(obj._student__name) # name            \n",
    "print(obj._student__age) # age\n",
    "print(obj._student__major) # major"
   ]
  },
  {
   "cell_type": "markdown",
   "metadata": {},
   "source": [
    "# 접근자와 설정자\n",
    "- 인스턴스 변수값을 반환하는 접근자(getters)\n",
    "- 인스턴스 변수값을 설정하는 설정자(setters)\n"
   ]
  },
  {
   "cell_type": "code",
   "execution_count": 19,
   "metadata": {},
   "outputs": [
    {
     "data": {
      "text/plain": [
       "20"
      ]
     },
     "execution_count": 19,
     "metadata": {},
     "output_type": "execute_result"
    }
   ],
   "source": [
    "class Student:\n",
    "    def __init__(self, name=None, age=0):\n",
    "        self.__name = name\n",
    "        self.__age = age \n",
    "    def getAge(self):\n",
    "        return self.__age # 접근자 메소드\n",
    "    def getName(self):\n",
    "        return self.__name # 접근자 메소드드\n",
    "    def setAge(self, age):\n",
    "        self.__age=age # 설정자 메소드\n",
    "    def setName(self, name):\n",
    "        self.__name=name # 설정자 메소드\n",
    "obj=Student(\"Hong\", 20)\n",
    "obj.getName()\n",
    "obj.getAge()\n"
   ]
  },
  {
   "cell_type": "code",
   "execution_count": 20,
   "metadata": {},
   "outputs": [
    {
     "name": "stdout",
     "output_type": "stream",
     "text": [
      "통장에서 10000 원이 입금되었습니다.\n",
      "통장에서 5000 원이 출금되었습니다.\n",
      "현재 잔액은 5000 원입니다.\n"
     ]
    }
   ],
   "source": [
    "class 은행계좌:\n",
    "    def __init__(self):\n",
    "        self.__현재_잔액 = 0\n",
    "    def 입금(self, 금액):\n",
    "        self.__현재_잔액 += 금액\n",
    "        print(\"통장에서\", 금액, \"원이 입금되었습니다.\")\n",
    "    def 출금(self, 금액):\n",
    "        self.__현재_잔액 -= 금액\n",
    "        print(\"통장에서\", 금액, \"원이 출금되었습니다.\")\n",
    "\n",
    "a = 은행계좌()\n",
    "b= int(input(\"입금할 금액을 입력하세요: \"))\n",
    "c= int(input(\"출금할 금액을 입력하세요: \"))\n",
    "a.입금(b)\n",
    "a.출금(c)\n",
    "print(\"현재 잔액은\", a._은행계좌__현재_잔액, \"원입니다.\")\n",
    "        \n",
    "        \n",
    "    "
   ]
  },
  {
   "cell_type": "markdown",
   "metadata": {},
   "source": [
    "# 객체 참조\n",
    "- 파이썬에서 변수는 실제로 객체를 저장하지 않는다.\n",
    "변수는 단지 객체의 메모리 주소를 저장한다.\n",
    "객체 자체는 메모리의 다른 곳에 생성된다.\n",
    "\n",
    "# 클래스 변수\n",
    "- 모든 객체를 통틀어서 하나만 생성되고 모든 객체가 이곳을 공유하는 변수를 클래스 멤버라고 한다."
   ]
  },
  {
   "cell_type": "code",
   "execution_count": 21,
   "metadata": {},
   "outputs": [],
   "source": [
    "class Dog:\n",
    "    kind = \"Bulldog\"         # 클래스변수\n",
    "    def __init__(self, name, age):\n",
    "        self.name = name    # 각인스턴스에유일한인스턴스변수\n",
    "        self.age = age    # 각인스턴스에유일한인스턴스변수\n"
   ]
  },
  {
   "cell_type": "code",
   "execution_count": 22,
   "metadata": {},
   "outputs": [
    {
     "name": "stdout",
     "output_type": "stream",
     "text": [
      "(1, 1)\n",
      "True\n"
     ]
    }
   ],
   "source": [
    "class Vector2D :\n",
    "    def __init__(self, x, y):\n",
    "        self.x = x\n",
    "        self.y = y\n",
    "\n",
    "    def __add__(self, other):\n",
    "        return Vector2D(self.x + other.x, self.y + other.y)\n",
    "\n",
    "    def __sub__(self, other):\n",
    "        return Vector2D(self.x - other.x, self.y - other.y)\n",
    "\n",
    "    def __eq__(self, other):\n",
    "        return self.x == other.x and self.y == other.y\n",
    "\n",
    "    def __str__(self):\n",
    "        return f'({self.x}, {self.y})'\n",
    "\n",
    "u = Vector2D(0,1)\n",
    "v = Vector2D(1,0)\n",
    "w = Vector2D(1,1)\n",
    "\n",
    "a = u + v       # (1, 1)\n",
    "\n",
    "print(a)\n",
    "\n",
    "print(a == w)"
   ]
  },
  {
   "cell_type": "code",
   "execution_count": 44,
   "metadata": {},
   "outputs": [
    {
     "name": "stdout",
     "output_type": "stream",
     "text": [
      "주사위의 값 = 4\n",
      "읽어온 주사위 값: 4\n",
      "\n",
      "다시 굴립니다...\n",
      "주사위의 값 = 6\n"
     ]
    }
   ],
   "source": [
    "from random import randint\n",
    "\n",
    "class Dice :\n",
    "    # 주사위 클래스 정의\n",
    "    def __init__(self, x, y) :\n",
    "        # 생성자: 초기 위치(x, y)와 내부 상태(__size, __value) 설정\n",
    "        # __가 붙은 변수는 클래스 내부에서 주로 사용하기 위한 것입니다 (name mangling)\n",
    "        self.__x = x\n",
    "        self.__y = y\n",
    "        self.__size = 30 # 이 예제에서는 사용되지 않는 변수\n",
    "        self.__value = 1 # 주사위 눈의 초기값\n",
    "\n",
    "    def read_dice(self) :\n",
    "        # 현재 주사위 눈의 값을 반환하는 메소드\n",
    "        return self.__value\n",
    "\n",
    "    def print_dice(self) :\n",
    "        # 현재 주사위 눈의 값을 출력하는 메소드\n",
    "        print(\"주사위의 값 =\", self.__value)\n",
    "\n",
    "    def roll_dice(self) :\n",
    "        # 주사위를 굴려 눈의 값을 1에서 6 사이의 무작위 정수로 변경하는 메소드\n",
    "        self.__value = randint(1, 6)\n",
    "\n",
    "# --- 코드 실행 부분 ---\n",
    "\n",
    "# Dice 클래스의 인스턴스(객체)를 생성합니다.\n",
    "# __init__ 메소드가 호출되어 x=100, y=100으로 설정되고, __value는 1이 됩니다.\n",
    "d = Dice(100, 100)\n",
    "\n",
    "# 주사위를 굴립니다.\n",
    "# roll_dice 메소드가 호출되어 __value가 1~6 사이의 무작위 값으로 변경됩니다.\n",
    "d.roll_dice()\n",
    "\n",
    "# 현재 주사위 값을 출력합니다.\n",
    "# print_dice 메소드가 호출되어 변경된 __value 값을 화면에 보여줍니다.\n",
    "d.print_dice()\n",
    "\n",
    "# 추가적으로 현재 값을 얻어와서 사용할 수도 있습니다.\n",
    "current_value = d.read_dice()\n",
    "print(f\"읽어온 주사위 값: {current_value}\")\n",
    "\n",
    "# 한 번 더 굴려볼까요?\n",
    "print(\"\\n다시 굴립니다...\")\n",
    "d.roll_dice()\n",
    "d.print_dice()"
   ]
  },
  {
   "cell_type": "code",
   "execution_count": 6,
   "metadata": {},
   "outputs": [
    {
     "name": "stdout",
     "output_type": "stream",
     "text": [
      "True\n"
     ]
    }
   ],
   "source": [
    "class Rectangle:\n",
    "\n",
    "    def __init__(self, x, y, w, h):\n",
    "        self.x = x  # 좌측 상단 x좌표\n",
    "        self.y = y  # 좌측 상단 y좌표\n",
    "        self.w = w  # 너비\n",
    "        self.h =h  # 높이\n",
    "\n",
    "    def __str__(self):\n",
    "        return f\"Rectangle at ({self.x}, {self.y}) with w {self.w} and h {self.h} and area is {self.w*self.h}\"\n",
    "\n",
    "    # 접근자 (getter)\n",
    "    def getX(self):\n",
    "        return self.x\n",
    "\n",
    "    def getY(self):\n",
    "        return self.y\n",
    "\n",
    "    def getWidth(self):\n",
    "        return self.w\n",
    "\n",
    "    def getHeight(self):\n",
    "        return self.h\n",
    "\n",
    "    # 설정자 (setter)\n",
    "    def setX(self, x):\n",
    "        self.x = x\n",
    "\n",
    "    def setY(self, y):\n",
    "        self.y = y\n",
    "\n",
    "    def setWidth(self, w):\n",
    "        self.w = w\n",
    "\n",
    "    def setHeight(self,h):\n",
    "        self.h =h\n",
    "\n",
    "    # 면적 계산\n",
    "    def getArea(self):\n",
    "        return self.w * self.h\n",
    "\n",
    "    # 겹침 여부 확인\n",
    "    def Overlap(self, r):\n",
    "        # 두 사각형이 겹치지 않는 경우를 판별\n",
    "        if (self.x + self.w <= r.x or r.x + r.w <= self.x or\n",
    "            self.y + self.h <= r.y or r.y + r.h <= self.y):\n",
    "            return False\n",
    "        return True\n",
    "r1 = Rectangle(0, 0, 100, 100)\n",
    "r2 = Rectangle(10, 10, 100, 100)\n",
    "print(r1.Overlap(r2))"
   ]
  },
  {
   "cell_type": "code",
   "execution_count": 13,
   "metadata": {},
   "outputs": [
    {
     "name": "stdout",
     "output_type": "stream",
     "text": [
      "Kim\n",
      "office phone: 1234567\n",
      "email address: kim@company.com\n",
      "Park\n",
      "office phone: 2345678\n",
      "email address: park@company.com\n",
      "\n"
     ]
    }
   ],
   "source": [
    "class PhoneBook:\n",
    "    def __init__(self):\n",
    "        self.contacts = {}  # 연락처 저장용 딕셔너리 초기화\n",
    "\n",
    "    def __str__(self):\n",
    "        if not self.contacts:\n",
    "            return \"연락처가 없습니다.\"\n",
    "        result = \"\"\n",
    "        for name, info in self.contacts.items():\n",
    "            result += f\"{name}\\n\"\n",
    "            \n",
    "            result += f\"office phone: {info.get('office', '없음')}\\n\"\n",
    "            result += f\"email address: {info.get('email', '없음')}\\n\"\n",
    "        return result\n",
    "\n",
    "    def add(self, name, mobile=None, office=None, email=None):\n",
    "        self.contacts[name] = {\n",
    "            'mobile': mobile,\n",
    "            'office': office,\n",
    "            'email': email\n",
    "        }\n",
    "\n",
    "obj = PhoneBook()\n",
    "obj .add(\"Kim\" , office=\"1234567\", email=\"kim@company.com\" )\n",
    "obj .add(\"Park\" , office=\"2345678\", email=\"park@company.com\")\n",
    "print(obj) "
   ]
  }
 ],
 "metadata": {
  "kernelspec": {
   "display_name": "base",
   "language": "python",
   "name": "python3"
  },
  "language_info": {
   "codemirror_mode": {
    "name": "ipython",
    "version": 3
   },
   "file_extension": ".py",
   "mimetype": "text/x-python",
   "name": "python",
   "nbconvert_exporter": "python",
   "pygments_lexer": "ipython3",
   "version": "3.12.3"
  }
 },
 "nbformat": 4,
 "nbformat_minor": 2
}
